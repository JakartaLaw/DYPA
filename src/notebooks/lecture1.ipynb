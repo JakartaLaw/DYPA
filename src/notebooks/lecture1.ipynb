{
 "cells": [
  {
   "cell_type": "code",
   "execution_count": 270,
   "metadata": {},
   "outputs": [],
   "source": [
    "import numpy as np\n",
    "import pandas as pd"
   ]
  },
  {
   "cell_type": "markdown",
   "metadata": {},
   "source": [
    "# Exercise 1 (Bruteforce T=2)"
   ]
  },
  {
   "cell_type": "code",
   "execution_count": 207,
   "metadata": {},
   "outputs": [],
   "source": [
    "# struct like object\n",
    "class struct():\n",
    "    pass\n",
    "\n",
    "def get_id_of_maxval(array):\n",
    "    \"\"\"array : np.array object\"\"\"\n",
    "    return np.argmax(array)"
   ]
  },
  {
   "cell_type": "code",
   "execution_count": 161,
   "metadata": {},
   "outputs": [],
   "source": [
    "# Setup\n",
    "param = struct()\n",
    "param.alpha = 0.5\n",
    "param.beta = 0.9\n",
    "param.t = 2\n",
    "param.u = lambda x, par: x**par.alpha "
   ]
  },
  {
   "cell_type": "code",
   "execution_count": 162,
   "metadata": {},
   "outputs": [],
   "source": [
    "M = 5"
   ]
  },
  {
   "cell_type": "code",
   "execution_count": 165,
   "metadata": {},
   "outputs": [
    {
     "name": "stdout",
     "output_type": "stream",
     "text": [
      "Vstar 3.004843013704663\n",
      "Cstar [3, 2]\n"
     ]
    }
   ],
   "source": [
    "# setup\n",
    "Vstar = - np.inf\n",
    "Cstar = [np.nan for _ in range(param.t)]\n",
    "\n",
    "for C1 in range(0, M + 1):\n",
    "    # evaluate \n",
    "    V = param.u(C1, param) + param.beta * param.u(M-C1, param) \n",
    "    if V > Vstar:\n",
    "        Vstar = V\n",
    "        Cstar[0] = C1\n",
    "        Cstar[1] = M - C1\n",
    "\n",
    "print('Vstar', Vstar)\n",
    "print('Cstar', Cstar)\n"
   ]
  },
  {
   "cell_type": "markdown",
   "metadata": {},
   "source": [
    "# Exercise 2 (Bruteforce T=3)"
   ]
  },
  {
   "cell_type": "code",
   "execution_count": 245,
   "metadata": {},
   "outputs": [],
   "source": [
    "# Setup\n",
    "param = struct()\n",
    "param.alpha = 0.5\n",
    "param.beta = 0.9\n",
    "param.t = 3\n",
    "param.u = lambda x, par: x**par.alpha "
   ]
  },
  {
   "cell_type": "code",
   "execution_count": 246,
   "metadata": {},
   "outputs": [],
   "source": [
    "M = 5"
   ]
  },
  {
   "cell_type": "code",
   "execution_count": 247,
   "metadata": {},
   "outputs": [],
   "source": [
    "# setup\n",
    "Vstar = - np.inf\n",
    "Cstar = [np.nan for _ in range(param.t)]"
   ]
  },
  {
   "cell_type": "code",
   "execution_count": 248,
   "metadata": {},
   "outputs": [
    {
     "name": "stdout",
     "output_type": "stream",
     "text": [
      "Vstar 3.4970057685088807\n",
      "Cstar [2, 2, 1]\n"
     ]
    }
   ],
   "source": [
    "for C2 in range(0, M+1):\n",
    "    for C1 in range(0, M-C2): #here note that it has a variable length for end point\n",
    "        \n",
    "        V = param.u(C2,param) + param.beta * param.u(C1,param) + (param.beta**2)*param.u(M-C1-C2,param)\n",
    "        \n",
    "        if V > Vstar:\n",
    "            Vstar = V\n",
    "            Cstar[0] = C2\n",
    "            Cstar[1] = C1\n",
    "            Cstar[2] = M - C1 - C2\n",
    "            \n",
    "print('Vstar',Vstar)\n",
    "print('Cstar',Cstar)\n",
    "        "
   ]
  },
  {
   "cell_type": "markdown",
   "metadata": {},
   "source": [
    "# Backwards induction (T=3)"
   ]
  },
  {
   "cell_type": "code",
   "execution_count": 263,
   "metadata": {},
   "outputs": [],
   "source": [
    "# Setup\n",
    "param = struct()\n",
    "param.alpha = 0.5\n",
    "param.beta = 0.9\n",
    "param.T = 10\n",
    "param.u = lambda x, par: x**par.alpha "
   ]
  },
  {
   "cell_type": "code",
   "execution_count": 264,
   "metadata": {},
   "outputs": [],
   "source": [
    "M = 5"
   ]
  },
  {
   "cell_type": "code",
   "execution_count": 265,
   "metadata": {},
   "outputs": [],
   "source": [
    "def find_V(M, Vstar_t, Vstar_next, Cstar_t, param):\n",
    "    \n",
    "    for m in range(0, M+1):\n",
    "        Vstar_t[m] = -np.inf\n",
    "\n",
    "        for Ct in range(m+1):\n",
    "            i_next = m - Ct\n",
    "            V = np.sqrt(Ct) + param.beta * Vstar_next[i_next]\n",
    "            if V > Vstar_t[m]:\n",
    "                Vstar_t[m] = V\n",
    "                Cstar_t[m] = Ct\n",
    "    return Vstar_t, Cstar_t\n"
   ]
  },
  {
   "cell_type": "code",
   "execution_count": 266,
   "metadata": {},
   "outputs": [],
   "source": [
    "Vstar, Cstar = dict(), dict()\n",
    "\n",
    "Vstar[param.T - 1] = param.u(np.arange(M+1), param)\n",
    "Cstar[param.T - 1] = np.arange(M+1)\n",
    "\n",
    "for t in reversed(range(param.T - 1)):\n",
    "    \n",
    "    #print('this t', t)\n",
    "    Vstar[t] = np.ones(M+1)*(np.nan)\n",
    "    Cstar[t] = np.ones(M+1)*(np.nan)\n",
    "    \n",
    "    Vstar[t], Cstar[t] = find_V(M, Vstar[t], Vstar[t+1] , Cstar[t], param)\n",
    "    \n"
   ]
  },
  {
   "cell_type": "code",
   "execution_count": 267,
   "metadata": {},
   "outputs": [],
   "source": [
    "def get_ct(Vstar_t, M, C_acc):\n",
    "    consumption_limit = int(M - C_acc)\n",
    "    idx = np.argmax(Vstar_t[0: consumption_limit + 1]) #remember index error needs plus 1\n",
    "    return idx"
   ]
  },
  {
   "cell_type": "code",
   "execution_count": 268,
   "metadata": {},
   "outputs": [],
   "source": [
    "consumption_path = dict()\n",
    "C_acc = 0\n",
    "for t in sorted(Cstar.keys()):\n",
    "    i = get_ct(Vstar[t], M, C_acc) #np.argmax get's id of highest value\n",
    "    Ct = Cstar[t][i]\n",
    "    C_acc = C_acc + Ct\n",
    "    consumption_path[t] = Ct\n"
   ]
  },
  {
   "cell_type": "code",
   "execution_count": 285,
   "metadata": {},
   "outputs": [
    {
     "data": {
      "text/html": [
       "<div>\n",
       "<style scoped>\n",
       "    .dataframe tbody tr th:only-of-type {\n",
       "        vertical-align: middle;\n",
       "    }\n",
       "\n",
       "    .dataframe tbody tr th {\n",
       "        vertical-align: top;\n",
       "    }\n",
       "\n",
       "    .dataframe thead th {\n",
       "        text-align: right;\n",
       "    }\n",
       "</style>\n",
       "<table border=\"1\" class=\"dataframe\">\n",
       "  <thead>\n",
       "    <tr style=\"text-align: right;\">\n",
       "      <th></th>\n",
       "      <th>consumption</th>\n",
       "    </tr>\n",
       "    <tr>\n",
       "      <th>time</th>\n",
       "      <th></th>\n",
       "    </tr>\n",
       "  </thead>\n",
       "  <tbody>\n",
       "    <tr>\n",
       "      <th>0.0</th>\n",
       "      <td>1.0</td>\n",
       "    </tr>\n",
       "    <tr>\n",
       "      <th>1.0</th>\n",
       "      <td>1.0</td>\n",
       "    </tr>\n",
       "    <tr>\n",
       "      <th>2.0</th>\n",
       "      <td>1.0</td>\n",
       "    </tr>\n",
       "    <tr>\n",
       "      <th>3.0</th>\n",
       "      <td>1.0</td>\n",
       "    </tr>\n",
       "    <tr>\n",
       "      <th>4.0</th>\n",
       "      <td>1.0</td>\n",
       "    </tr>\n",
       "    <tr>\n",
       "      <th>5.0</th>\n",
       "      <td>0.0</td>\n",
       "    </tr>\n",
       "    <tr>\n",
       "      <th>6.0</th>\n",
       "      <td>0.0</td>\n",
       "    </tr>\n",
       "    <tr>\n",
       "      <th>7.0</th>\n",
       "      <td>0.0</td>\n",
       "    </tr>\n",
       "    <tr>\n",
       "      <th>8.0</th>\n",
       "      <td>0.0</td>\n",
       "    </tr>\n",
       "    <tr>\n",
       "      <th>9.0</th>\n",
       "      <td>0.0</td>\n",
       "    </tr>\n",
       "  </tbody>\n",
       "</table>\n",
       "</div>"
      ],
      "text/plain": [
       "      consumption\n",
       "time             \n",
       "0.0           1.0\n",
       "1.0           1.0\n",
       "2.0           1.0\n",
       "3.0           1.0\n",
       "4.0           1.0\n",
       "5.0           0.0\n",
       "6.0           0.0\n",
       "7.0           0.0\n",
       "8.0           0.0\n",
       "9.0           0.0"
      ]
     },
     "execution_count": 285,
     "metadata": {},
     "output_type": "execute_result"
    }
   ],
   "source": [
    "res = pd.DataFrame(zip(*consumption_path.items())).T\n",
    "res.columns = ['time', 'consumption']\n",
    "res.set_index('time')"
   ]
  },
  {
   "cell_type": "code",
   "execution_count": null,
   "metadata": {},
   "outputs": [],
   "source": []
  }
 ],
 "metadata": {
  "kernelspec": {
   "display_name": "DYPA",
   "language": "python",
   "name": "dypa"
  },
  "language_info": {
   "codemirror_mode": {
    "name": "ipython",
    "version": 3
   },
   "file_extension": ".py",
   "mimetype": "text/x-python",
   "name": "python",
   "nbconvert_exporter": "python",
   "pygments_lexer": "ipython3",
   "version": "3.7.2"
  }
 },
 "nbformat": 4,
 "nbformat_minor": 2
}
