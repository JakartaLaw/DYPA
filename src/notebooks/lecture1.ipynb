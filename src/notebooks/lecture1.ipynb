{
 "cells": [
  {
   "cell_type": "code",
   "execution_count": 5,
   "metadata": {},
   "outputs": [],
   "source": [
    "import numpy as np\n",
    "import pandas as pd\n",
    "import matplotlib.pyplot as plt\n",
    "import scipy.interpolate as sc\n",
    "from scipy.interpolate import interp1d"
   ]
  },
  {
   "cell_type": "markdown",
   "metadata": {},
   "source": [
    "# Exercise 1 (Bruteforce T=2)"
   ]
  },
  {
   "cell_type": "code",
   "execution_count": 25,
   "metadata": {},
   "outputs": [],
   "source": [
    "# struct like object\n",
    "class struct():\n",
    "    pass\n",
    "\n",
    "def get_id_of_maxval(array):\n",
    "    \"\"\"array : np.array object\"\"\"\n",
    "    return np.argmax(array)"
   ]
  },
  {
   "cell_type": "code",
   "execution_count": 161,
   "metadata": {},
   "outputs": [],
   "source": [
    "# Setup\n",
    "param = struct()\n",
    "param.alpha = 0.5\n",
    "param.beta = 0.9\n",
    "param.t = 2\n",
    "param.u = lambda x, par: x**par.alpha "
   ]
  },
  {
   "cell_type": "code",
   "execution_count": 162,
   "metadata": {},
   "outputs": [],
   "source": [
    "M = 5"
   ]
  },
  {
   "cell_type": "code",
   "execution_count": 165,
   "metadata": {},
   "outputs": [
    {
     "name": "stdout",
     "output_type": "stream",
     "text": [
      "Vstar 3.004843013704663\n",
      "Cstar [3, 2]\n"
     ]
    }
   ],
   "source": [
    "# setup\n",
    "Vstar = - np.inf\n",
    "Cstar = [np.nan for _ in range(param.t)]\n",
    "\n",
    "for C1 in range(0, M + 1):\n",
    "    # evaluate \n",
    "    V = param.u(C1, param) + param.beta * param.u(M-C1, param) \n",
    "    if V > Vstar:\n",
    "        Vstar = V\n",
    "        Cstar[0] = C1\n",
    "        Cstar[1] = M - C1\n",
    "\n",
    "print('Vstar', Vstar)\n",
    "print('Cstar', Cstar)\n"
   ]
  },
  {
   "cell_type": "markdown",
   "metadata": {},
   "source": [
    "# Exercise 2 (Bruteforce T=3)"
   ]
  },
  {
   "cell_type": "code",
   "execution_count": 245,
   "metadata": {},
   "outputs": [],
   "source": [
    "# Setup\n",
    "param = struct()\n",
    "param.alpha = 0.5\n",
    "param.beta = 0.9\n",
    "param.t = 3\n",
    "param.u = lambda x, par: x**par.alpha "
   ]
  },
  {
   "cell_type": "code",
   "execution_count": 246,
   "metadata": {},
   "outputs": [],
   "source": [
    "M = 5"
   ]
  },
  {
   "cell_type": "code",
   "execution_count": 247,
   "metadata": {},
   "outputs": [],
   "source": [
    "# setup\n",
    "Vstar = - np.inf\n",
    "Cstar = [np.nan for _ in range(param.t)]"
   ]
  },
  {
   "cell_type": "code",
   "execution_count": 248,
   "metadata": {},
   "outputs": [
    {
     "name": "stdout",
     "output_type": "stream",
     "text": [
      "Vstar 3.4970057685088807\n",
      "Cstar [2, 2, 1]\n"
     ]
    }
   ],
   "source": [
    "for C2 in range(0, M+1):\n",
    "    for C1 in range(0, M-C2): #here note that it has a variable length for end point\n",
    "        \n",
    "        V = param.u(C2,param) + param.beta * param.u(C1,param) + (param.beta**2)*param.u(M-C1-C2,param)\n",
    "        \n",
    "        if V > Vstar:\n",
    "            Vstar = V\n",
    "            Cstar[0] = C2\n",
    "            Cstar[1] = C1\n",
    "            Cstar[2] = M - C1 - C2\n",
    "            \n",
    "print('Vstar',Vstar)\n",
    "print('Cstar',Cstar)\n",
    "        "
   ]
  },
  {
   "cell_type": "markdown",
   "metadata": {},
   "source": [
    "# Backwards induction (T=3)"
   ]
  },
  {
   "cell_type": "code",
   "execution_count": 263,
   "metadata": {},
   "outputs": [],
   "source": [
    "# Setup\n",
    "param = struct()\n",
    "param.alpha = 0.5\n",
    "param.beta = 0.9\n",
    "param.T = 10\n",
    "param.u = lambda x, par: x**par.alpha "
   ]
  },
  {
   "cell_type": "code",
   "execution_count": 264,
   "metadata": {},
   "outputs": [],
   "source": [
    "M = 5"
   ]
  },
  {
   "cell_type": "code",
   "execution_count": 265,
   "metadata": {},
   "outputs": [],
   "source": [
    "def find_V(M, Vstar_t, Vstar_next, Cstar_t, param):\n",
    "    \n",
    "    for m in range(0, M+1):\n",
    "        Vstar_t[m] = -np.inf\n",
    "\n",
    "        for Ct in range(m+1):\n",
    "            i_next = m - Ct\n",
    "            V = np.sqrt(Ct) + param.beta * Vstar_next[i_next]\n",
    "            if V > Vstar_t[m]:\n",
    "                Vstar_t[m] = V\n",
    "                Cstar_t[m] = Ct\n",
    "    return Vstar_t, Cstar_t\n"
   ]
  },
  {
   "cell_type": "code",
   "execution_count": 266,
   "metadata": {},
   "outputs": [],
   "source": [
    "Vstar, Cstar = dict(), dict()\n",
    "\n",
    "Vstar[param.T - 1] = param.u(np.arange(M+1), param)\n",
    "Cstar[param.T - 1] = np.arange(M+1)\n",
    "\n",
    "for t in reversed(range(param.T - 1)):\n",
    "    \n",
    "    #print('this t', t)\n",
    "    Vstar[t] = np.ones(M+1)*(np.nan)\n",
    "    Cstar[t] = np.ones(M+1)*(np.nan)\n",
    "    \n",
    "    Vstar[t], Cstar[t] = find_V(M, Vstar[t], Vstar[t+1] , Cstar[t], param)\n",
    "    \n"
   ]
  },
  {
   "cell_type": "code",
   "execution_count": 267,
   "metadata": {},
   "outputs": [],
   "source": [
    "def get_ct(Vstar_t, M, C_acc):\n",
    "    consumption_limit = int(M - C_acc)\n",
    "    idx = np.argmax(Vstar_t[0: consumption_limit + 1]) #remember index error needs plus 1\n",
    "    return idx"
   ]
  },
  {
   "cell_type": "code",
   "execution_count": 268,
   "metadata": {},
   "outputs": [],
   "source": [
    "consumption_path = dict()\n",
    "C_acc = 0\n",
    "for t in sorted(Cstar.keys()):\n",
    "    i = get_ct(Vstar[t], M, C_acc) #np.argmax get's id of highest value\n",
    "    Ct = Cstar[t][i]\n",
    "    C_acc = C_acc + Ct\n",
    "    consumption_path[t] = Ct\n"
   ]
  },
  {
   "cell_type": "code",
   "execution_count": 285,
   "metadata": {},
   "outputs": [
    {
     "data": {
      "text/html": [
       "<div>\n",
       "<style scoped>\n",
       "    .dataframe tbody tr th:only-of-type {\n",
       "        vertical-align: middle;\n",
       "    }\n",
       "\n",
       "    .dataframe tbody tr th {\n",
       "        vertical-align: top;\n",
       "    }\n",
       "\n",
       "    .dataframe thead th {\n",
       "        text-align: right;\n",
       "    }\n",
       "</style>\n",
       "<table border=\"1\" class=\"dataframe\">\n",
       "  <thead>\n",
       "    <tr style=\"text-align: right;\">\n",
       "      <th></th>\n",
       "      <th>consumption</th>\n",
       "    </tr>\n",
       "    <tr>\n",
       "      <th>time</th>\n",
       "      <th></th>\n",
       "    </tr>\n",
       "  </thead>\n",
       "  <tbody>\n",
       "    <tr>\n",
       "      <th>0.0</th>\n",
       "      <td>1.0</td>\n",
       "    </tr>\n",
       "    <tr>\n",
       "      <th>1.0</th>\n",
       "      <td>1.0</td>\n",
       "    </tr>\n",
       "    <tr>\n",
       "      <th>2.0</th>\n",
       "      <td>1.0</td>\n",
       "    </tr>\n",
       "    <tr>\n",
       "      <th>3.0</th>\n",
       "      <td>1.0</td>\n",
       "    </tr>\n",
       "    <tr>\n",
       "      <th>4.0</th>\n",
       "      <td>1.0</td>\n",
       "    </tr>\n",
       "    <tr>\n",
       "      <th>5.0</th>\n",
       "      <td>0.0</td>\n",
       "    </tr>\n",
       "    <tr>\n",
       "      <th>6.0</th>\n",
       "      <td>0.0</td>\n",
       "    </tr>\n",
       "    <tr>\n",
       "      <th>7.0</th>\n",
       "      <td>0.0</td>\n",
       "    </tr>\n",
       "    <tr>\n",
       "      <th>8.0</th>\n",
       "      <td>0.0</td>\n",
       "    </tr>\n",
       "    <tr>\n",
       "      <th>9.0</th>\n",
       "      <td>0.0</td>\n",
       "    </tr>\n",
       "  </tbody>\n",
       "</table>\n",
       "</div>"
      ],
      "text/plain": [
       "      consumption\n",
       "time             \n",
       "0.0           1.0\n",
       "1.0           1.0\n",
       "2.0           1.0\n",
       "3.0           1.0\n",
       "4.0           1.0\n",
       "5.0           0.0\n",
       "6.0           0.0\n",
       "7.0           0.0\n",
       "8.0           0.0\n",
       "9.0           0.0"
      ]
     },
     "execution_count": 285,
     "metadata": {},
     "output_type": "execute_result"
    }
   ],
   "source": [
    "res = pd.DataFrame(zip(*consumption_path.items())).T\n",
    "res.columns = ['time', 'consumption']\n",
    "res.set_index('time')"
   ]
  },
  {
   "cell_type": "markdown",
   "metadata": {},
   "source": [
    "# Exercise 2\n",
    "\n",
    "Now with shock of probability $\\pi$"
   ]
  },
  {
   "cell_type": "code",
   "execution_count": 152,
   "metadata": {},
   "outputs": [],
   "source": [
    "par = struct()\n",
    "par.alpha = 0.5\n",
    "par.beta = 0.9\n",
    "par.pi = 0.5\n",
    "par.T = 10\n",
    "par.u = lambda x, par: x**par.alpha"
   ]
  },
  {
   "cell_type": "code",
   "execution_count": 153,
   "metadata": {},
   "outputs": [],
   "source": [
    "M = 10"
   ]
  },
  {
   "cell_type": "code",
   "execution_count": 154,
   "metadata": {},
   "outputs": [],
   "source": [
    "Vstar, Cstar = dict(), dict()"
   ]
  },
  {
   "cell_type": "code",
   "execution_count": null,
   "metadata": {},
   "outputs": [],
   "source": []
  },
  {
   "cell_type": "code",
   "execution_count": 155,
   "metadata": {},
   "outputs": [],
   "source": [
    "def calc_V(par, Ct, Vstar_next, Vstar_next_plus):\n",
    "    EV = (1 - par.pi) * Vstar_next + par.pi * Vstar_next_plus # here\n",
    "    V = par.u(Ct, par) + par.beta*EV\n",
    "    return V\n",
    "\n",
    "def find_V(M, t, Vstar, Cstar, par):\n",
    "    for m in range(M + t + 1):\n",
    "        \n",
    "        Vstar[t][m] = - np.inf\n",
    "        \n",
    "        for Ct in range(0, m):\n",
    "            \n",
    "            if t == par.T:\n",
    "                V = par.u(C, par)\n",
    "            \n",
    "            \n",
    "            else:\n",
    "                i_next, i_next_plus = m - Ct, m - Ct + 1  \n",
    "                V = calc_V(par, Ct, Vstar[t+1][i_next], Vstar[t+1][i_next_plus])\n",
    "\n",
    "            if V > Vstar[t][m]:\n",
    "                Vstar[t][m] = V\n",
    "                Cstar[t][m] = Ct\n",
    " \n",
    "    return Vstar[t], Cstar[t] \n",
    "        "
   ]
  },
  {
   "cell_type": "code",
   "execution_count": 156,
   "metadata": {},
   "outputs": [],
   "source": [
    "Vstar, Cstar = dict(), dict()\n",
    "\n",
    "Cstar[par.T] = np.arange(M + par.T + 1) # +1 because of 20 items is possible to be consumed in last period\n",
    "Vstar[par.T] = par.u(Cstar[par.T], par)\n",
    "\n",
    "for t in reversed(range(1, par.T)):\n",
    "    \n",
    "    Vstar[t] = np.ones(M+1 + par.T)*(np.nan)\n",
    "    Cstar[t] = np.ones(M+1 + par.T)*(np.nan)\n",
    "    \n",
    "    Vstar[t], Cstar[t] = find_V(M, t, Vstar, Cstar, par)\n",
    "    \n"
   ]
  },
  {
   "cell_type": "code",
   "execution_count": 157,
   "metadata": {},
   "outputs": [
    {
     "data": {
      "text/plain": [
       "<matplotlib.legend.Legend at 0x11d733e80>"
      ]
     },
     "execution_count": 157,
     "metadata": {},
     "output_type": "execute_result"
    },
    {
     "data": {
      "image/png": "[encoded data removed]",
      "text/plain": [
       "<Figure size 432x288 with 1 Axes>"
      ]
     },
     "metadata": {
      "needs_background": "light"
     },
     "output_type": "display_data"
    }
   ],
   "source": [
    "plt.plot(Vstar[1],label='vstar')\n",
    "plt.plot(Cstar[1], label='cstar')\n",
    "plt.legend()"
   ]
  },
  {
   "cell_type": "markdown",
   "metadata": {},
   "source": [
    "# Exercise 3"
   ]
  },
  {
   "cell_type": "code",
   "execution_count": 8,
   "metadata": {},
   "outputs": [],
   "source": [
    "def f(x):\n",
    "    return (x-3)**2\n",
    "\n",
    "x_true = np.linspace(0,6, 100)\n",
    "f_true = f(x_true)\n",
    "x_known = np.array([1, 2, 3, 4, 5])\n",
    "f_known = f(x_known)"
   ]
  },
  {
   "cell_type": "code",
   "execution_count": 9,
   "metadata": {},
   "outputs": [
    {
     "data": {
      "text/plain": [
       "[<matplotlib.lines.Line2D at 0x11b584f98>]"
      ]
     },
     "execution_count": 9,
     "metadata": {},
     "output_type": "execute_result"
    },
    {
     "data": {
      "image/png": "[encoded data removed]",
      "text/plain": [
       "<Figure size 432x288 with 1 Axes>"
      ]
     },
     "metadata": {
      "needs_background": "light"
     },
     "output_type": "display_data"
    }
   ],
   "source": [
    "interpolated = sc.griddata(x_known, f_known, x_true, method='linear')\n",
    "plt.plot(interpolated, label='interpolated')\n",
    "plt.plot(f_true)\n"
   ]
  },
  {
   "cell_type": "code",
   "execution_count": 21,
   "metadata": {},
   "outputs": [
    {
     "data": {
      "text/plain": [
       "array(19.)"
      ]
     },
     "execution_count": 21,
     "metadata": {},
     "output_type": "execute_result"
    }
   ],
   "source": [
    "f = interp1d(x_known, f_known, bounds_error=False, fill_value='extrapolate')\n",
    "f(10)"
   ]
  },
  {
   "cell_type": "markdown",
   "metadata": {},
   "source": [
    "# Exercise 3 - continued"
   ]
  },
  {
   "cell_type": "code",
   "execution_count": 59,
   "metadata": {},
   "outputs": [],
   "source": [
    "par = struct()\n",
    "par.T = 10\n",
    "par.beta = 0.9\n",
    "par.alpha = 0.5\n",
    "par.pi = 0.5\n",
    "par.M = 5\n",
    "par.hash_M = 10\n",
    "par.hash_C = 15\n",
    "par.grid_M = np.linspace(1, par.M, par.hash_M)\n",
    "par.u = lambda x, par: x**par.alpha"
   ]
  },
  {
   "cell_type": "code",
   "execution_count": 123,
   "metadata": {},
   "outputs": [],
   "source": [
    "def interp_v(x, x_grid, y_grid):\n",
    "    f = interp1d(x_grid, y_grid, bounds_error=False, fill_value='extrapolate')\n",
    "    return f(x)\n",
    "\n",
    "def find_V(par, t, Vstar, Cstar):\n",
    "    \n",
    "    Vstar_t, Vstar_t1, Cstar_t = Vstar[t], Vstar[t + 1], Cstar[t]\n",
    "    \n",
    "    for im in range(0, par.hash_M):\n",
    "        Vstar_t[im] = - np.inf        \n",
    "        Mt = par.grid_M[im]\n",
    "        \n",
    "        for Ct in np.linspace(0, Mt, par.hash_C): # loops over \n",
    "\n",
    "            V = calc_V_for_M(par, Mt, Vstar_t1, Ct)\n",
    "        \n",
    "            if im==4 and t ==4:\n",
    "                print(V)\n",
    "            if V > Vstar_t[im]:\n",
    "                \n",
    "                Vstar_t[im] = V\n",
    "                Cstar_t[im] = Ct\n",
    "            \n",
    "    return Vstar_t, Cstar_t\n",
    "            \n",
    "        \n",
    "def calc_V_for_M(par, Mt, Vstar_t1, Ct):\n",
    "    \n",
    "        EV_t1 = par.pi*interp_v(Mt - Ct + 1, par.grid_M, Vstar_t1) + (1 - par.pi)*interp_v(Mt - Ct, par.grid_M, Vstar_t1)\n",
    "        V = np.sqrt(Ct) + par.beta * EV_t1\n",
    "        return V\n",
    "\n",
    "def run_model(par):\n",
    "    \n",
    "    #instantiate model\n",
    "    Vstar, Cstar = dict(), dict()\n",
    "    \n",
    "    Cstar[par.T] = np.linspace(0, par.M,par.hash_M) # +1 because of 20 items is possible to be consumed in last period\n",
    "    Vstar[par.T] = par.u(Cstar[par.T], par)\n",
    "    \n",
    "    for t in reversed(range(1, par.T)):\n",
    "    \n",
    "        Vstar[t] = np.linspace(0, par.M, par.hash_M)*(np.nan)\n",
    "        Cstar[t] = np.linspace(0, par.M, par.hash_M)*(np.nan)\n",
    "\n",
    "        Vstar[t], Cstar[t] = find_V(par, t, Vstar, Cstar)\n",
    "    \n",
    "    return Vstar, Cstar"
   ]
  },
  {
   "cell_type": "code",
   "execution_count": 124,
   "metadata": {},
   "outputs": [
    {
     "name": "stdout",
     "output_type": "stream",
     "text": [
      "3.726654282007105\n",
      "4.084867135838573\n",
      "4.181234680519073\n",
      "4.233231086311797\n",
      "4.261344988108217\n",
      "4.274840492936741\n",
      "4.27579986718222\n",
      "4.26880053098302\n",
      "4.254104930891728\n",
      "4.2340530627799\n",
      "4.209475507427992\n",
      "4.1809480381154955\n",
      "4.149164027558233\n",
      "4.114073801946455\n",
      "4.076603370424158\n"
     ]
    }
   ],
   "source": [
    "Vstar, Cstar = run_model(par)"
   ]
  },
  {
   "cell_type": "code",
   "execution_count": 127,
   "metadata": {},
   "outputs": [
    {
     "data": {
      "text/plain": [
       "[<matplotlib.lines.Line2D at 0x108779fd0>]"
      ]
     },
     "execution_count": 127,
     "metadata": {},
     "output_type": "execute_result"
    },
    {
     "data": {
      "image/png": "[encoded data removed]",
      "text/plain": [
       "<Figure size 432x288 with 1 Axes>"
      ]
     },
     "metadata": {
      "needs_background": "light"
     },
     "output_type": "display_data"
    }
   ],
   "source": [
    "plt.plot(par.grid_M, Vstar[2])"
   ]
  },
  {
   "cell_type": "code",
   "execution_count": 111,
   "metadata": {},
   "outputs": [
    {
     "data": {
      "text/plain": [
       "array([1.        , 1.44444444, 1.88888889, 2.33333333, 2.77777778,\n",
       "       3.22222222, 3.66666667, 4.11111111, 4.55555556, 5.        ])"
      ]
     },
     "execution_count": 111,
     "metadata": {},
     "output_type": "execute_result"
    }
   ],
   "source": [
    "par.grid_M"
   ]
  },
  {
   "cell_type": "code",
   "execution_count": 130,
   "metadata": {},
   "outputs": [
    {
     "data": {
      "text/plain": [
       "[<matplotlib.lines.Line2D at 0x11d831f98>]"
      ]
     },
     "execution_count": 130,
     "metadata": {},
     "output_type": "execute_result"
    },
    {
     "data": {
      "image/png": "[encoded data removed]",
      "text/plain": [
       "<Figure size 432x288 with 1 Axes>"
      ]
     },
     "metadata": {
      "needs_background": "light"
     },
     "output_type": "display_data"
    }
   ],
   "source": [
    "plt.plot(par.grid_M, Vstar[1])"
   ]
  },
  {
   "cell_type": "code",
   "execution_count": null,
   "metadata": {},
   "outputs": [],
   "source": []
  }
 ],
 "metadata": {
  "kernelspec": {
   "display_name": "DYPA",
   "language": "python",
   "name": "dypa"
  },
  "language_info": {
   "codemirror_mode": {
    "name": "ipython",
    "version": 3
   },
   "file_extension": ".py",
   "mimetype": "text/x-python",
   "name": "python",
   "nbconvert_exporter": "python",
   "pygments_lexer": "ipython3",
   "version": "3.7.2"
  }
 },
 "nbformat": 4,
 "nbformat_minor": 2
}
